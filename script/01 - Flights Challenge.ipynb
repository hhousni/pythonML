{
 "cells": [
  {
   "cell_type": "markdown",
   "metadata": {},
   "source": [
    "# Flights Data Exploration Challenge\n",
    "\n",
    "In this challenge, you'll explore a real-world dataset containing flights data from the US Department of Transportation.\n",
    "\n",
    "Let's start by loading and viewing the data."
   ]
  },
  {
   "cell_type": "code",
   "execution_count": 2,
   "metadata": {},
   "outputs": [],
   "source": [
    "import os\n",
    "os.chdir('/Users/thedreamer/datascience/python/pythonML')"
   ]
  },
  {
   "cell_type": "code",
   "execution_count": 20,
   "metadata": {},
   "outputs": [
    {
     "name": "stdout",
     "output_type": "stream",
     "text": [
      "$519.25 \n"
     ]
    }
   ],
   "source": [
    "import pandas as pd\n",
    "from matplotlib import pyplot as plt \n",
    "\n",
    "# Load data from csv file\n",
    "df_flights = pd.read_csv('data/flights.csv')\n",
    "df_flights.head(2)"
   ]
  },
  {
   "cell_type": "code",
   "execution_count": 5,
   "metadata": {},
   "outputs": [
    {
     "name": "stdout",
     "output_type": "stream",
     "text": [
      "AvgTicketPrice        0\n",
      "Cancelled             0\n",
      "Dest                  0\n",
      "DestAirportID         0\n",
      "DestCityName          0\n",
      "DestCountry           0\n",
      "DestLocation          0\n",
      "DestRegion            0\n",
      "DestWeather           0\n",
      "DistanceKilometers    0\n",
      "DistanceMiles         0\n",
      "FlightDelay           0\n",
      "FlightDelayMin        0\n",
      "FlightDelayType       0\n",
      "FlightNum             0\n",
      "FlightTimeHour        0\n",
      "FlightTimeMin         0\n",
      "Origin                0\n",
      "OriginAirportID       0\n",
      "OriginCityName        0\n",
      "OriginCountry         0\n",
      "OriginLocation        0\n",
      "OriginRegion          0\n",
      "OriginWeather         0\n",
      "dayOfWeek             0\n",
      "hour_of_day           0\n",
      "dtype: int64\n"
     ]
    }
   ],
   "source": [
    "# Check for missing value \n",
    "missing_values = df_flights.isnull().sum()\n",
    "print(missing_values)"
   ]
  },
  {
   "cell_type": "code",
   "execution_count": 6,
   "metadata": {},
   "outputs": [
    {
     "name": "stdout",
     "output_type": "stream",
     "text": [
      "Empty DataFrame\n",
      "Columns: [AvgTicketPrice, Cancelled, Dest, DestAirportID, DestCityName, DestCountry, DestLocation, DestRegion, DestWeather, DistanceKilometers, DistanceMiles, FlightDelay, FlightDelayMin, FlightDelayType, FlightNum, FlightTimeHour, FlightTimeMin, Origin, OriginAirportID, OriginCityName, OriginCountry, OriginLocation, OriginRegion, OriginWeather, dayOfWeek, hour_of_day]\n",
      "Index: []\n",
      "\n",
      "[0 rows x 26 columns]\n"
     ]
    }
   ],
   "source": [
    "# Check for duplicated\n",
    "duplicated_rows = df_flights[df_flights.duplicated()]\n",
    "print(duplicated_rows)"
   ]
  },
  {
   "cell_type": "code",
   "execution_count": 21,
   "metadata": {},
   "outputs": [
    {
     "name": "stdout",
     "output_type": "stream",
     "text": [
      "AvgTicketPrice         object\n",
      "Cancelled                bool\n",
      "Dest                   object\n",
      "DestAirportID          object\n",
      "DestCityName           object\n",
      "DestCountry            object\n",
      "DestLocation           object\n",
      "DestRegion             object\n",
      "DestWeather            object\n",
      "DistanceKilometers     object\n",
      "DistanceMiles          object\n",
      "FlightDelay              bool\n",
      "FlightDelayMin          int64\n",
      "FlightDelayType        object\n",
      "FlightNum              object\n",
      "FlightTimeHour        float64\n",
      "FlightTimeMin          object\n",
      "Origin                 object\n",
      "OriginAirportID        object\n",
      "OriginCityName         object\n",
      "OriginCountry          object\n",
      "OriginLocation         object\n",
      "OriginRegion           object\n",
      "OriginWeather          object\n",
      "dayOfWeek               int64\n",
      "hour_of_day             int64\n",
      "dtype: object\n"
     ]
    },
    {
     "data": {
      "text/html": [
       "<div>\n",
       "<style scoped>\n",
       "    .dataframe tbody tr th:only-of-type {\n",
       "        vertical-align: middle;\n",
       "    }\n",
       "\n",
       "    .dataframe tbody tr th {\n",
       "        vertical-align: top;\n",
       "    }\n",
       "\n",
       "    .dataframe thead th {\n",
       "        text-align: right;\n",
       "    }\n",
       "</style>\n",
       "<table border=\"1\" class=\"dataframe\">\n",
       "  <thead>\n",
       "    <tr style=\"text-align: right;\">\n",
       "      <th></th>\n",
       "      <th>AvgTicketPrice</th>\n",
       "      <th>Cancelled</th>\n",
       "      <th>Dest</th>\n",
       "      <th>DestAirportID</th>\n",
       "      <th>DestCityName</th>\n",
       "      <th>DestCountry</th>\n",
       "      <th>DestLocation</th>\n",
       "      <th>DestRegion</th>\n",
       "      <th>DestWeather</th>\n",
       "      <th>DistanceKilometers</th>\n",
       "      <th>...</th>\n",
       "      <th>FlightTimeMin</th>\n",
       "      <th>Origin</th>\n",
       "      <th>OriginAirportID</th>\n",
       "      <th>OriginCityName</th>\n",
       "      <th>OriginCountry</th>\n",
       "      <th>OriginLocation</th>\n",
       "      <th>OriginRegion</th>\n",
       "      <th>OriginWeather</th>\n",
       "      <th>dayOfWeek</th>\n",
       "      <th>hour_of_day</th>\n",
       "    </tr>\n",
       "  </thead>\n",
       "  <tbody>\n",
       "    <tr>\n",
       "      <th>0</th>\n",
       "      <td>$668.22</td>\n",
       "      <td>False</td>\n",
       "      <td>San Francisco International Airport</td>\n",
       "      <td>SFO</td>\n",
       "      <td>San Francisco</td>\n",
       "      <td>US</td>\n",
       "      <td>{\\n  \"lat\": \"37.61899948\",\\n  \"lon\": \"-122.375...</td>\n",
       "      <td>US-CA</td>\n",
       "      <td>Sunny</td>\n",
       "      <td>10,260.84</td>\n",
       "      <td>...</td>\n",
       "      <td>488.611</td>\n",
       "      <td>Naples International Airport</td>\n",
       "      <td>NA01</td>\n",
       "      <td>Naples</td>\n",
       "      <td>IT</td>\n",
       "      <td>{\\n  \"lat\": \"40.886002\",\\n  \"lon\": \"14.2908\"\\n}</td>\n",
       "      <td>IT-72</td>\n",
       "      <td>Sunny</td>\n",
       "      <td>5</td>\n",
       "      <td>16</td>\n",
       "    </tr>\n",
       "    <tr>\n",
       "      <th>1</th>\n",
       "      <td>$519.25</td>\n",
       "      <td>False</td>\n",
       "      <td>Tulsa International Airport</td>\n",
       "      <td>TUL</td>\n",
       "      <td>Tulsa</td>\n",
       "      <td>US</td>\n",
       "      <td>{\\n  \"lat\": \"36.19839859\",\\n  \"lon\": \"-95.8880...</td>\n",
       "      <td>US-OK</td>\n",
       "      <td>Sunny</td>\n",
       "      <td>4,137.26</td>\n",
       "      <td>...</td>\n",
       "      <td>376.115</td>\n",
       "      <td>El Dorado International Airport</td>\n",
       "      <td>BOG</td>\n",
       "      <td>Bogota</td>\n",
       "      <td>CO</td>\n",
       "      <td>{\\n  \"lat\": \"4.70159\",\\n  \"lon\": \"-74.1469\"\\n}</td>\n",
       "      <td>SE-BD</td>\n",
       "      <td>Rain</td>\n",
       "      <td>5</td>\n",
       "      <td>16</td>\n",
       "    </tr>\n",
       "  </tbody>\n",
       "</table>\n",
       "<p>2 rows × 26 columns</p>\n",
       "</div>"
      ],
      "text/plain": [
       "  AvgTicketPrice  Cancelled                                 Dest  \\\n",
       "0       $668.22       False  San Francisco International Airport   \n",
       "1       $519.25       False          Tulsa International Airport   \n",
       "\n",
       "  DestAirportID   DestCityName DestCountry  \\\n",
       "0           SFO  San Francisco          US   \n",
       "1           TUL          Tulsa          US   \n",
       "\n",
       "                                        DestLocation DestRegion DestWeather  \\\n",
       "0  {\\n  \"lat\": \"37.61899948\",\\n  \"lon\": \"-122.375...      US-CA       Sunny   \n",
       "1  {\\n  \"lat\": \"36.19839859\",\\n  \"lon\": \"-95.8880...      US-OK       Sunny   \n",
       "\n",
       "  DistanceKilometers  ... FlightTimeMin                           Origin  \\\n",
       "0          10,260.84  ...       488.611     Naples International Airport   \n",
       "1           4,137.26  ...       376.115  El Dorado International Airport   \n",
       "\n",
       "   OriginAirportID OriginCityName OriginCountry  \\\n",
       "0             NA01         Naples            IT   \n",
       "1              BOG         Bogota            CO   \n",
       "\n",
       "                                    OriginLocation OriginRegion OriginWeather  \\\n",
       "0  {\\n  \"lat\": \"40.886002\",\\n  \"lon\": \"14.2908\"\\n}        IT-72         Sunny   \n",
       "1   {\\n  \"lat\": \"4.70159\",\\n  \"lon\": \"-74.1469\"\\n}        SE-BD          Rain   \n",
       "\n",
       "  dayOfWeek hour_of_day  \n",
       "0         5          16  \n",
       "1         5          16  \n",
       "\n",
       "[2 rows x 26 columns]"
      ]
     },
     "execution_count": 21,
     "metadata": {},
     "output_type": "execute_result"
    }
   ],
   "source": [
    "# check data types consistency \n",
    "data_types = df_flights.dtypes\n",
    "print(data_types)\n",
    "\n",
    "df_flights.head(2)"
   ]
  },
  {
   "cell_type": "code",
   "execution_count": 42,
   "metadata": {},
   "outputs": [
    {
     "name": "stdout",
     "output_type": "stream",
     "text": [
      "AvgTicketPrice        float64\n",
      "Cancelled                bool\n",
      "Dest                   object\n",
      "DestAirportID          object\n",
      "DestCityName           object\n",
      "DestCountry            object\n",
      "DestLocation           object\n",
      "DestRegion             object\n",
      "DestWeather            object\n",
      "DistanceKilometers     object\n",
      "DistanceMiles          object\n",
      "FlightDelay              bool\n",
      "FlightDelayMin          int64\n",
      "FlightDelayType        object\n",
      "FlightNum              object\n",
      "FlightTimeHour        float64\n",
      "FlightTimeMin          object\n",
      "Origin                 object\n",
      "OriginAirportID        object\n",
      "OriginCityName         object\n",
      "OriginCountry          object\n",
      "OriginLocation         object\n",
      "OriginRegion           object\n",
      "OriginWeather          object\n",
      "dayOfWeek               int64\n",
      "hour_of_day             int64\n",
      "dtype: object\n"
     ]
    }
   ],
   "source": [
    "# Changing the data type for AvgTicketPrice \n",
    "# let remove the $ signe from the data\n",
    "# 1 cpnvert AvgTicketPrice into string \n",
    "df_flights['AvgTicketPrice'] = df_flights['AvgTicketPrice'].astype(str)\n",
    "\n",
    "# Extract numerical values from the 'AvgTicketPrice' column and convert to float\n",
    "df_flights['AvgTicketPrice'] = df_flights['AvgTicketPrice'].str.extract(r'(\\d+\\.\\d+|\\d+)').astype(float)\n",
    "\n",
    "df_flights.head(2)\n",
    "data_types = df_flights.dtypes\n",
    "print(data_types)"
   ]
  },
  {
   "cell_type": "code",
   "execution_count": null,
   "metadata": {},
   "outputs": [],
   "source": []
  },
  {
   "cell_type": "code",
   "execution_count": null,
   "metadata": {},
   "outputs": [],
   "source": []
  }
 ],
 "metadata": {
  "kernelspec": {
   "display_name": "Python 3 (ipykernel)",
   "language": "python",
   "name": "python3"
  },
  "language_info": {
   "codemirror_mode": {
    "name": "ipython",
    "version": 3
   },
   "file_extension": ".py",
   "mimetype": "text/x-python",
   "name": "python",
   "nbconvert_exporter": "python",
   "pygments_lexer": "ipython3",
   "version": "3.11.5"
  }
 },
 "nbformat": 4,
 "nbformat_minor": 4
}
